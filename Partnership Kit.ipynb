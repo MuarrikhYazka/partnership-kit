{
 "cells": [
  {
   "cell_type": "markdown",
   "metadata": {
    "id": "QTYkvYlJqS4p"
   },
   "source": [
    "<IMG SRC='https://investree.id/v3/1598541183130/img/inv_logo.55026ac7.png' align='LEFT' width='20%' />"
   ]
  },
  {
   "cell_type": "markdown",
   "metadata": {
    "id": "ZvSmUpwiqS4r"
   },
   "source": [
    "<b>Partnership Assessment Analysis |</b> <br /> PT Raksasa Laju Lintang (Rarali)\n",
    "<br />\n",
    "<ul>Teams:\n",
    "    <li>Malna (Risk, Analyst)</li>\n",
    "    <li>Abid (Risk)</li>\n",
    "    <li>Adryan (Risk)</li>\n",
    "    <li>Joko Purwanto (Risk)</li>\n",
    "</ul>"
   ]
  },
  {
   "cell_type": "markdown",
   "metadata": {
    "id": "UNQKWkYgqS4s"
   },
   "source": [
    "<i>Revision Log</i>\n",
    "<table align='left'>\n",
    "    <tr><td><b>No.</b></td><td><b>Desc</b></td><td><b>Report Version</b></td><td><b>Engine Version</b></td><td><b>Changelog</b></td><td><b>Finalized On</b></td><td><b>Circulated On</b></td></tr>\n",
    "    <tr><td>1</td><td>Initial Versions</td><td>1.0</td><td>1.0</td><td>Initial release of Rarali Analysis</td><td>-</td><td>-</td></tr>\n",
    "</table>"
   ]
  },
  {
   "cell_type": "markdown",
   "metadata": {
    "id": "qmsMmYH-qS4u"
   },
   "source": [
    "<p style=\"font-size:8pt;\"><b>Disclaimer:</b> this report is strictly confidential and solely for the use of PT Investree Radhika Jaya, Investree (Thailand, Investree Philippines, and PT Raksasa Laju Lintang. The content have been summarized to suit needs; for actual definitions, descriptions and exclusion, please refer to the corresponding directorate.</p>\n",
    "\n",
    "<hr />"
   ]
  },
  {
   "cell_type": "code",
   "execution_count": 87,
   "metadata": {},
   "outputs": [],
   "source": [
    "#Supply Chain"
   ]
  },
  {
   "cell_type": "code",
   "execution_count": 88,
   "metadata": {
    "id": "TBlPqI05qS41"
   },
   "outputs": [],
   "source": [
    "import pandas as pd\n",
    "import seaborn as sns\n",
    "import matplotlib.pyplot as plt\n",
    "import numpy as np\n",
    "import os\n",
    "from datetime import date"
   ]
  },
  {
   "cell_type": "code",
   "execution_count": 89,
   "metadata": {
    "id": "1xrR0jIdqS4v"
   },
   "outputs": [
    {
     "name": "stdout",
     "output_type": "stream",
     "text": [
      "Analysis Time  2020-11-13\n"
     ]
    }
   ],
   "source": [
    "#Get current date\n",
    "refer_analysis_time = date.today()\n",
    "print('Analysis Time ', refer_analysis_time)"
   ]
  },
  {
   "cell_type": "code",
   "execution_count": 90,
   "metadata": {
    "id": "Cbek2Q7LqS46",
    "outputId": "3ae29895-69b4-49e4-cd30-6ac54b3f5a46"
   },
   "outputs": [
    {
     "name": "stdout",
     "output_type": "stream",
     "text": [
      "   BUYER_ID         BUYER_BUSINESS_PATTERN BUYER_GENDER BUYER_ROLES  \\\n",
      "0         1  PEMILIK / KARYAWAN PERUSAHAAN    LAKI-LAKI       OWNER   \n",
      "1         2            INDIVIDUAL / ONLINE    LAKI-LAKI       OWNER   \n",
      "2         3          TIDAK MEMILIKI BISNIS    PEREMPUAN       OWNER   \n",
      "3         4  PEMILIK / KARYAWAN PERUSAHAAN    LAKI-LAKI       OWNER   \n",
      "4         5  PEMILIK / KARYAWAN PERUSAHAAN    LAKI-LAKI       OWNER   \n",
      "\n",
      "  BUYER_PHONE_NUMBER BUYER_COMPANY_TYPE BUYER_COMPANY_NAME_ID  \\\n",
      "0           6,29E+12                 PT             MAJU JAYA   \n",
      "1         6244331654                 CV       BERDIRI SENDIRI   \n",
      "2        62344543423                 CV        MAKMUR SENTOSA   \n",
      "3        62344543411                 PT           HARUM WANGI   \n",
      "4        62344543424                 CV           KERAS TEGAS   \n",
      "\n",
      "           BUYER_PRODUCT_LIKE BUYER_BUSINESS_TYPE        BUYER_WEBSITE  \\\n",
      "0     READYMIX BETON, PRECAST  PRINSIPAL / PABRIK  HTTPS://ADAMAME.COM   \n",
      "1           ABU TERBANG 1 TON  PRINSIPAL / PABRIK                  NaN   \n",
      "2               BESI ULIR 8MM  PRINSIPAL / PABRIK                  NaN   \n",
      "3  HELM PROYEK KUNING ALL-FIT  PRINSIPAL / PABRIK                  NaN   \n",
      "4              STETOSKOP MERK  PRINSIPAL / PABRIK                  NaN   \n",
      "\n",
      "       BUYER_INDUSTRY BUYER_PROC_FREQ    BUYER_ANNUAL_VOLUME  \\\n",
      "0  BUILDING MATERIALS  SETIAP 4 BULAN  1 MILLION - 2 MILLION   \n",
      "1       ALAT BANGUNAN  SETIAP 4 BULAN  2 MILLION - 3 MILLION   \n",
      "2       ALAT BANGUNAN  SETIAP 3 BULAN  2 MILLION - 3 MILLION   \n",
      "3       ALAT KEAMANAN  SETIAP 4 BULAN  2 MILLION - 3 MILLION   \n",
      "4      ALAT KESEHATAN  SETIAP 2 BULAN  2 MILLION - 3 MILLION   \n",
      "\n",
      "                             BUYER_BANK_ACCOUNT BUYER_LAST_UPDATE  \\\n",
      "0  CIMB NIAGA 23442524654 | MANDIRI 24564443565        01/10/2019   \n",
      "1  CIMB NIAGA 23442524654 | MANDIRI 24564443565        05/01/2020   \n",
      "2  CIMB NIAGA 23442524654 | MANDIRI 24564443565        06/10/2020   \n",
      "3  CIMB NIAGA 23442524654 | MANDIRI 24564443565        15/04/2020   \n",
      "4  CIMB NIAGA 23442524654 | MANDIRI 24564443565        05/12/2019   \n",
      "\n",
      "   BUYER_COUNT_UPDATE BUYER_PAYMENT_TYPE_PREF  BUYER_TENURE_PREF  BUYER_AGE  \\\n",
      "0                   4                  BULLET                 30         53   \n",
      "1                   5              INSTALMENT                 30         54   \n",
      "2                   6              INSTALMENT                 60         41   \n",
      "3                   2              INSTALMENT                 90         32   \n",
      "4                   1                  BULLET                 90         33   \n",
      "\n",
      "  BUYER_FIRST_TRANSACTION_DATE  \n",
      "0                   01/01/2019  \n",
      "1                   01/10/2019  \n",
      "2                   01/10/2020  \n",
      "3                   05/06/2020  \n",
      "4                   23/12/2019  \n",
      "        PO_ID  SUPPLIER_ID  BUYER_ID  DELIVERY_LOCATION           PO_DATE  \\\n",
      "0  RRL/XXI/12            1       565               ACEH  16/12/2019 12:00   \n",
      "1  RRL/XXI/12            1       565               ACEH  16/12/2019 12:00   \n",
      "2  RRL/XXI/18            1         4          PALEMBANG  21/06/2019 12:00   \n",
      "3   RRL/XXI/1            2         5  TANGERANG SELATAN  21/09/2019 12:00   \n",
      "4   RRL/VI/14            3        10               ACEH  21/03/2019 12:00   \n",
      "\n",
      "                 PRODUCT_DESC    PRODUCT_TYPE  QTY MEASUREMENT_UNIT  \\\n",
      "0             SIKA VISCOCRETE   ALAT BANGUNAN  200           BOTTLE   \n",
      "1           ABU TERBANG 1 TON   ALAT BANGUNAN    1              TON   \n",
      "2               BESI ULIR 8MM   ALAT BANGUNAN    3              TON   \n",
      "3  HELM PROYEK KUNING ALL-FIT   ALAT KEAMANAN  143            PIECE   \n",
      "4              STETOSKOP MERK  ALAT KESEHATAN   25            PIECE   \n",
      "\n",
      "  TERM_OF_PAYMENT   PO_TOTAL  DISCOUNT_TOTAL  EXP_RECEIPT_DATE  \\\n",
      "0           NET60  100000000          500000  15/12/2019 12:00   \n",
      "1           NET60   50000000         2000000  15/12/2019 12:00   \n",
      "2           NET30   79000000         5000000  20/06/2019 12:00   \n",
      "3           NET30    5000000          750000  20/09/2019 12:00   \n",
      "4           NET30    5000000         1000000  20/03/2019 12:00   \n",
      "\n",
      "   ACT_RECEIPT_DATE   ACT_SETTLE_DATE  DELIVERY_POSTCODE  \n",
      "0  15/12/2019 12:00  20/12/2019 12:00              53281  \n",
      "1  15/12/2019 12:00  20/12/2019 12:00              16425  \n",
      "2  20/06/2019 12:00  25/06/2019 12:00              16424  \n",
      "3  23/09/2019 12:00  26/09/2019 12:00              53280  \n",
      "4  20/03/2019 12:00  25/03/2019 12:00              53284  \n",
      "   SUPPLIER_ID          REG_DATE  YEAR_OF_ESTABLISHMENT SUPPLIER_ENTITY  \\\n",
      "0            1  12/12/2020 12:00                   2007              PT   \n",
      "1            2  21/06/2020 12:00                   2006              PT   \n",
      "2            3  28/01/2019 07:51                   2006              CV   \n",
      "3            4  29/01/2019 07:51                   2010              PT   \n",
      "4            5  30/01/2019 07:51                   2011              PT   \n",
      "\n",
      "  SUPPLIER_MAIN_PRODUCT_TYPE  \\\n",
      "0         AGRICULTURE & FOOD   \n",
      "1                      SEMEN   \n",
      "2             ALAT KESEHATAN   \n",
      "3             ALAT KESEHATAN   \n",
      "4    BEAUTY, SPORT & FASHION   \n",
      "\n",
      "                         SUPPLIER_OTHER_PRODUCT_TYPE  \\\n",
      "0                              SEMEN | ALAT BANGUNAN   \n",
      "1  BESI TULANGAN | PERALATAN MANDI | PERALATAN KE...   \n",
      "2                                     STETOSKOP MERK   \n",
      "3                                  ALCOHOL SWAB MERK   \n",
      "4                                             SEPATU   \n",
      "\n",
      "   FLAG_SUPPLIER_RARALI_ONLY SUPPLIER_LOCATION  SUPPLIER_RATING  SOLD_PRODUCT  \\\n",
      "0                          1     JAKARTA BARAT                4           118   \n",
      "1                          1           BANDUNG                2           208   \n",
      "2                          0   JAKARTA SELATAN                5            65   \n",
      "3                          0          SURABAYA                4           209   \n",
      "4                          1     JAKARTA PUSAT                4            45   \n",
      "\n",
      "   ...  CP_PHONE_NUMBER  SUPPLIER_CERTIFIED_DOCUMENTS SUPPLIER_GENDER  \\\n",
      "0  ...         6,29E+12             KTP | NPWP | SIUP            PRIA   \n",
      "1  ...      62877641034                    KTP | NPWP            PRIA   \n",
      "2  ...         6,29E+12       KTP | NPWP | SIUP | TDP            PRIA   \n",
      "3  ...         6,29E+12             KTP | NPWP | SIUP            PRIA   \n",
      "4  ...         6,29E+12                    KTP | NPWP            PRIA   \n",
      "\n",
      "  SUPPLIER_AGE         SUPPLIER_INDUSTRY SUPPLIER_POSTCODE  \\\n",
      "0           40  PERHOTELAN DAN AKOMODASI             22393   \n",
      "1           50  PERHOTELAN DAN AKOMODASI             22393   \n",
      "2           51                 TEKNOLOGI             55253   \n",
      "3           44                 TEKNOLOGI             44191   \n",
      "4           39                 TEKNOLOGI             43285   \n",
      "\n",
      "  SUPPLIER_PAYMENT_TYPE_PREF SUPPLIER_TENURE_PREF  SUPPLIER_COMPANY_NAME  \\\n",
      "0                     Bullet                   30      KARYA ANAK BANGSA   \n",
      "1                     Bullet                   60                    NaN   \n",
      "2                     Bullet                   60                    NaN   \n",
      "3                 Instalment                   60                    NaN   \n",
      "4                 Instalment                   90                    NaN   \n",
      "\n",
      "  SUPPLIER_BANK_ACCOUNT  \n",
      "0                   NaN  \n",
      "1                   NaN  \n",
      "2                   NaN  \n",
      "3                   NaN  \n",
      "4                   NaN  \n",
      "\n",
      "[5 rows x 25 columns]\n"
     ]
    }
   ],
   "source": [
    "#To import data and see first-5 row of the data an its header\n",
    "url_buyer = 'Data Buyer Dummy.csv'\n",
    "url_po = 'Purchase Order Dummy.csv'\n",
    "url_supplier = 'Data Supplier Dummy.csv'\n",
    "\n",
    "df_buyer = pd.read_csv(url_buyer, sep=';')\n",
    "print(df_buyer.head())\n",
    "df_po = pd.read_csv(url_po, sep=';')\n",
    "print(df_po.head())\n",
    "df_supplier = pd.read_csv(url_supplier, sep=';')\n",
    "print(df_supplier.head())"
   ]
  },
  {
   "cell_type": "code",
   "execution_count": 91,
   "metadata": {
    "id": "3_xWPVVZqS5D"
   },
   "outputs": [],
   "source": [
    "#To define datatype of each column - please refer to the analyst for the judgements\n",
    "##Supplier\n",
    "sup_int_list = ['YEAR_OF_ESTABLISHMENT','SOLD_PRODUCT','ITEM_TRANSACTION','TOTAL_REPORT_PRODUCT','SUPPLIER_RATING']\n",
    "sup_flt_list = []\n",
    "sup_str_list = ['SUPPLIER_ID','SUPPLIER_ENTITY','SUPPLIER_MAIN_PRODUCT_TYPE','SUPPLIER_OTHER_PRODUCT_TYPE','FLAG_SUPPLIER_RARALI_ONLY','SUPPLIER_LOCATION','CP_NAME','CP_ROLES','CP_PHONE_NUMBER','SUPPLIER_CERTIFIED_DOCUMENTS','SUPPLIER_POSTCODE','SUPPLIER_GENDER','SUPPLIER_AGE','SUPPLIER_INDUSTRY','SUPPLIER_POSTCODE','SUPPLIER_PAYMENT_TYPE_PREF','SUPPLIER_TENURE_PREF','SUPPLIER_COMPANY_NAME','SUPPLIER_BANK_ACCOUNT']\n",
    "sup_boo_list = []\n",
    "sup_dti_list = ['REG_DATE','LAST_DATA_UPDATE']\n",
    "\n",
    "##Purchase Order\n",
    "po_int_list = ['QTY','PO_TOTAL','DISCOUNT_TOTAL']\n",
    "po_flt_list = []\n",
    "po_str_list = ['PO_ID','SUPPLIER_ID','BUYER_ID','DELIVERY_LOCATION','PRODUCT_DESC','PRODUCT_TYPE','MEASUREMENT_UNIT','TERM_OF_PAYMENT', 'DELIVERY_POSTCODE']\n",
    "po_boo_list = []\n",
    "po_dti_list = ['PO_DATE','EXP_RECEIPT_DATE','ACT_RECEIPT_DATE','ACT_SETTLE_DATE']\n",
    "\n",
    "##Buyer\n",
    "buy_int_list = ['BUYER_COUNT_UPDATE','BUYER_AGE']\n",
    "buy_flt_list = []\n",
    "buy_str_list = ['BUYER_ANNUAL_VOLUME','BUYER_ID','BUYER_BUSINESS_PATTERN','BUYER_GENDER','BUYER_ROLES','BUYER_PHONE_NUMBER','BUYER_COMPANY_TYPE','BUYER_COMPANY_NAME_ID','BUYER_PRODUCT_LIKE','BUYER_BUSINESS_TYPE','BUYER_WEBSITE','BUYER_INDUSTRY','BUYER_PROC_FREQ','BUYER_BANK_ACCOUNT','BUYER_PAYMENT_TYPE_PREF','BUYER_TENURE_PREF']\n",
    "buy_boo_list = []\n",
    "buy_dti_list = ['BUYER_LAST_UPDATE','BUYER_FIRST_TRANSACTION_DATE']\n",
    "\n",
    "target = []\n",
    "\n",
    "non_inf = []\n",
    "\n",
    "\n"
   ]
  },
  {
   "cell_type": "code",
   "execution_count": 92,
   "metadata": {
    "id": "ed16rCYSqS5K",
    "outputId": "03574a79-75f2-4405-b497-3d23e83e6410"
   },
   "outputs": [
    {
     "name": "stdout",
     "output_type": "stream",
     "text": [
      "YEAR_OF_ESTABLISHMENT\n",
      "SOLD_PRODUCT\n",
      "ITEM_TRANSACTION\n",
      "TOTAL_REPORT_PRODUCT\n",
      "SUPPLIER_RATING\n",
      "QTY\n",
      "PO_TOTAL\n",
      "DISCOUNT_TOTAL\n",
      "BUYER_COUNT_UPDATE\n",
      "BUYER_AGE\n"
     ]
    }
   ],
   "source": [
    "#Supplier\n",
    "for col in sup_int_list:\n",
    "    print(col)\n",
    "    df_supplier[col] = df_supplier[col].astype('Int64')\n",
    "for col in sup_flt_list:\n",
    "    print(col)\n",
    "    df_supplier[col] = df_supplier[col].astype('float64')\n",
    "for col in sup_str_list:\n",
    "    df_supplier[col] = df_supplier[col].astype('object')\n",
    "for col in sup_boo_list:\n",
    "    df_supplier[col] = df_supplier[col].astype('bool')\n",
    "for col in sup_dti_list:\n",
    "    df_supplier[col] = df_supplier[col].astype('datetime64')\n",
    "\n",
    "#PO\n",
    "for col in po_int_list:\n",
    "    print(col)\n",
    "    df_po[col] = df_po[col].astype('Int64')\n",
    "for col in po_flt_list:\n",
    "    df_po[col] = df_po[col].astype('float64')\n",
    "for col in po_str_list:\n",
    "    df_po[col] = df_po[col].astype('object')\n",
    "for col in po_boo_list:\n",
    "    df_po[col] = df_po[col].astype('bool')\n",
    "for col in po_dti_list:\n",
    "    df_po[col] = df_po[col].astype('datetime64')\n",
    "\n",
    "#Buyer\n",
    "for col in buy_int_list:\n",
    "    print(col)\n",
    "    df_buyer[col] = df_buyer[col].astype('Int64')\n",
    "for col in buy_flt_list:\n",
    "    df_buyer[col] = df_buyer[col].astype('float64')\n",
    "for col in buy_str_list:\n",
    "    df_buyer[col] = df_buyer[col].astype('object')\n",
    "for col in buy_boo_list:\n",
    "    df_buyer[col] = df_buyer[col].astype('bool')\n",
    "for col in buy_dti_list:\n",
    "    df_buyer[col] = df_buyer[col].astype('datetime64')"
   ]
  },
  {
   "cell_type": "markdown",
   "metadata": {
    "id": "ldynfQ5ZvYKm"
   },
   "source": [
    "# 1. Business and Credit Process\n"
   ]
  },
  {
   "cell_type": "markdown",
   "metadata": {
    "id": "f2cqH9RNqS5R"
   },
   "source": [
    "<p>This refer to ecosystem form partnership assessment of Partner</p>"
   ]
  },
  {
   "cell_type": "markdown",
   "metadata": {
    "id": "yX1T8DwhqS5S"
   },
   "source": [
    "<b>1.I Business Model</b>"
   ]
  },
  {
   "cell_type": "markdown",
   "metadata": {
    "id": "3JR3XXWVqS5U"
   },
   "source": [
    "<i>Nothing to show</i>"
   ]
  },
  {
   "cell_type": "markdown",
   "metadata": {
    "id": "VdBccJOFqS5V"
   },
   "source": [
    "<b>1.II Process Flow</b>"
   ]
  },
  {
   "cell_type": "markdown",
   "metadata": {
    "id": "jqSfymoPqS5W"
   },
   "source": [
    "<i>Nothing to show</i>"
   ]
  },
  {
   "cell_type": "markdown",
   "metadata": {
    "id": "AiwDnf-MqS5Y"
   },
   "source": [
    "<b>1.III Credit Assessment</b>"
   ]
  },
  {
   "cell_type": "markdown",
   "metadata": {
    "id": "liU8xKD2qS5a"
   },
   "source": [
    "<img src='1.png' />"
   ]
  },
  {
   "cell_type": "markdown",
   "metadata": {
    "id": "QAuB-pdcqS5b"
   },
   "source": [
    "<h5 align='center'>--- This is the end of <u>Business and Credit Process</u> section ---</h5>"
   ]
  },
  {
   "cell_type": "markdown",
   "metadata": {
    "id": "o6CkISe9qS5c"
   },
   "source": [
    "<h5 align='center'>.</h5>"
   ]
  },
  {
   "cell_type": "markdown",
   "metadata": {
    "id": "snCEI-11vik5"
   },
   "source": [
    "# 2. Data Info"
   ]
  },
  {
   "cell_type": "markdown",
   "metadata": {
    "id": "H4sPsyLYqS5f"
   },
   "source": [
    "This section gives picture about data given from partner"
   ]
  },
  {
   "cell_type": "code",
   "execution_count": 93,
   "metadata": {
    "id": "3TwQYQHvqS5g",
    "outputId": "f2f8e105-e49c-45c2-99e4-240c73aee082"
   },
   "outputs": [
    {
     "data": {
      "text/html": [
       "<div>\n",
       "<style scoped>\n",
       "    .dataframe tbody tr th:only-of-type {\n",
       "        vertical-align: middle;\n",
       "    }\n",
       "\n",
       "    .dataframe tbody tr th {\n",
       "        vertical-align: top;\n",
       "    }\n",
       "\n",
       "    .dataframe thead th {\n",
       "        text-align: right;\n",
       "    }\n",
       "</style>\n",
       "<table border=\"1\" class=\"dataframe\">\n",
       "  <thead>\n",
       "    <tr style=\"text-align: right;\">\n",
       "      <th></th>\n",
       "      <th>Filename</th>\n",
       "      <th>Filesize (In MB)</th>\n",
       "      <th>Format</th>\n",
       "      <th>Total Columns</th>\n",
       "      <th>Informative Columns*</th>\n",
       "      <th>Total Rows</th>\n",
       "      <th>Missing Values (%)**</th>\n",
       "      <th>Remarks</th>\n",
       "    </tr>\n",
       "  </thead>\n",
       "  <tbody>\n",
       "    <tr>\n",
       "      <th>0</th>\n",
       "      <td>Data Supplier Dummy</td>\n",
       "      <td>0.002</td>\n",
       "      <td>.csv</td>\n",
       "      <td>25</td>\n",
       "      <td>25</td>\n",
       "      <td>10</td>\n",
       "      <td>0.076</td>\n",
       "      <td>-</td>\n",
       "    </tr>\n",
       "    <tr>\n",
       "      <th>1</th>\n",
       "      <td>Purchase Order Dummy</td>\n",
       "      <td>0.002</td>\n",
       "      <td>.csv</td>\n",
       "      <td>16</td>\n",
       "      <td>16</td>\n",
       "      <td>10</td>\n",
       "      <td>0.000</td>\n",
       "      <td>-</td>\n",
       "    </tr>\n",
       "    <tr>\n",
       "      <th>2</th>\n",
       "      <td>Data Buyer Dummy</td>\n",
       "      <td>0.003</td>\n",
       "      <td>.csv</td>\n",
       "      <td>20</td>\n",
       "      <td>20</td>\n",
       "      <td>10</td>\n",
       "      <td>0.045</td>\n",
       "      <td>-</td>\n",
       "    </tr>\n",
       "  </tbody>\n",
       "</table>\n",
       "</div>"
      ],
      "text/plain": [
       "               Filename  Filesize (In MB) Format  Total Columns  \\\n",
       "0   Data Supplier Dummy             0.002   .csv             25   \n",
       "1  Purchase Order Dummy             0.002   .csv             16   \n",
       "2      Data Buyer Dummy             0.003   .csv             20   \n",
       "\n",
       "   Informative Columns*  Total Rows  Missing Values (%)** Remarks  \n",
       "0                    25          10                 0.076       -  \n",
       "1                    16          10                 0.000       -  \n",
       "2                    20          10                 0.045       -  "
      ]
     },
     "execution_count": 93,
     "metadata": {},
     "output_type": "execute_result"
    }
   ],
   "source": [
    "df_for_di = [[os.path.splitext(url_supplier)[0], round((os.stat(url_supplier).st_size / (1024 * 1024)),3),os.path.splitext(url_supplier)[1], df_supplier.shape[1],(df_supplier.shape[1] - len(non_inf)),df_supplier.shape[0],df_supplier.isna().sum().sum() / (df_supplier.shape[0]*df_supplier.shape[1]),'-']]\n",
    "df_for_di.append([os.path.splitext(url_po)[0], round((os.stat(url_po).st_size / (1024 * 1024)),3),os.path.splitext(url_po)[1], df_po.shape[1],(df_po.shape[1] - len(non_inf)),df_po.shape[0],df_po.isna().sum().sum() / (df_po.shape[0]*df_po.shape[1]),'-'])\n",
    "df_for_di.append([os.path.splitext(url_buyer)[0], round((os.stat(url_buyer).st_size / (1024 * 1024)),3),os.path.splitext(url_buyer)[1], df_buyer.shape[1],(df_buyer.shape[1] - len(non_inf)),df_buyer.shape[0],df_buyer.isna().sum().sum() / (df_buyer.shape[0]*df_buyer.shape[1]),'-'])\n",
    "df_for_di = pd.DataFrame(df_for_di, columns = ['Filename','Filesize (In MB)','Format','Total Columns','Informative Columns*','Total Rows','Missing Values (%)**','Remarks'])\n",
    "df_for_di"
   ]
  },
  {
   "cell_type": "markdown",
   "metadata": {
    "id": "9Qg81G2aqS5k"
   },
   "source": [
    "<p style=\"font-size:8pt;\">\n",
    "    <i>* Informative columns is the number of total columns that important to use in analysis. This based on analyst judgement, and if a column consist of the same value, it's categorized as unimportant</i>\n",
    "        <br /><i>** Percentage of missing values = total NULL cells / total cells. '0.6' means 60%, so 1 is equal to 100%</i></p>"
   ]
  },
  {
   "cell_type": "code",
   "execution_count": 94,
   "metadata": {},
   "outputs": [
    {
     "data": {
      "text/html": [
       "<div>\n",
       "<style scoped>\n",
       "    .dataframe tbody tr th:only-of-type {\n",
       "        vertical-align: middle;\n",
       "    }\n",
       "\n",
       "    .dataframe tbody tr th {\n",
       "        vertical-align: top;\n",
       "    }\n",
       "\n",
       "    .dataframe thead th {\n",
       "        text-align: right;\n",
       "    }\n",
       "</style>\n",
       "<table border=\"1\" class=\"dataframe\">\n",
       "  <thead>\n",
       "    <tr style=\"text-align: right;\">\n",
       "      <th></th>\n",
       "      <th>Data</th>\n",
       "      <th>Variable Exist</th>\n",
       "      <th>Count of Variable Exist</th>\n",
       "      <th>Variable Not Exist</th>\n",
       "      <th>Count of Variable Not Exist</th>\n",
       "    </tr>\n",
       "  </thead>\n",
       "  <tbody>\n",
       "    <tr>\n",
       "      <th>0</th>\n",
       "      <td>Data Supplier</td>\n",
       "      <td>[SUPPLIER_AGE, LAST_DATA_UPDATE, SUPPLIER_TENU...</td>\n",
       "      <td>25</td>\n",
       "      <td>[]</td>\n",
       "      <td>0</td>\n",
       "    </tr>\n",
       "    <tr>\n",
       "      <th>1</th>\n",
       "      <td>Data Purchase Order</td>\n",
       "      <td>[ACT_SETTLE_DATE, DISCOUNT_TOTAL, PO_ID, PRODU...</td>\n",
       "      <td>16</td>\n",
       "      <td>[]</td>\n",
       "      <td>0</td>\n",
       "    </tr>\n",
       "    <tr>\n",
       "      <th>2</th>\n",
       "      <td>Data Buyer</td>\n",
       "      <td>[BUYER_PAYMENT_TYPE_PREF, BUYER_ANNUAL_VOLUME,...</td>\n",
       "      <td>20</td>\n",
       "      <td>[]</td>\n",
       "      <td>0</td>\n",
       "    </tr>\n",
       "  </tbody>\n",
       "</table>\n",
       "</div>"
      ],
      "text/plain": [
       "                  Data                                     Variable Exist  \\\n",
       "0        Data Supplier  [SUPPLIER_AGE, LAST_DATA_UPDATE, SUPPLIER_TENU...   \n",
       "1  Data Purchase Order  [ACT_SETTLE_DATE, DISCOUNT_TOTAL, PO_ID, PRODU...   \n",
       "2           Data Buyer  [BUYER_PAYMENT_TYPE_PREF, BUYER_ANNUAL_VOLUME,...   \n",
       "\n",
       "   Count of Variable Exist Variable Not Exist  Count of Variable Not Exist  \n",
       "0                       25                 []                            0  \n",
       "1                       16                 []                            0  \n",
       "2                       20                 []                            0  "
      ]
     },
     "execution_count": 94,
     "metadata": {},
     "output_type": "execute_result"
    }
   ],
   "source": [
    "#Checking variabel yg ada dan yg kurang apa\n",
    "##Try-except biar run nya tetep lanjut\n",
    "column_df_buyer = ['BUYER_ID', 'BUYER_BUSINESS_PATTERN', 'BUYER_GENDER', 'BUYER_ROLES', 'BUYER_PHONE_NUMBER', 'BUYER_COMPANY_TYPE', 'BUYER_COMPANY_NAME_ID', 'BUYER_PRODUCT_LIKE', 'BUYER_BUSINESS_TYPE', 'BUYER_WEBSITE', 'BUYER_INDUSTRY', 'BUYER_PROC_FREQ', 'BUYER_ANNUAL_VOLUME', 'BUYER_BANK_ACCOUNT', 'BUYER_LAST_UPDATE', 'BUYER_COUNT_UPDATE', 'BUYER_PAYMENT_TYPE_PREF', 'BUYER_TENURE_PREF', 'BUYER_AGE', 'BUYER_FIRST_TRANSACTION_DATE']\n",
    "column_df_po = ['PO_ID', 'SUPPLIER_ID', 'BUYER_ID', 'DELIVERY_LOCATION', 'PO_DATE', 'PRODUCT_DESC', 'PRODUCT_TYPE', 'QTY', 'MEASUREMENT_UNIT', 'TERM_OF_PAYMENT', 'PO_TOTAL', 'DISCOUNT_TOTAL', 'EXP_RECEIPT_DATE', 'ACT_RECEIPT_DATE', 'ACT_SETTLE_DATE', 'DELIVERY_POSTCODE']\n",
    "column_df_supplier = ['SUPPLIER_ID', 'REG_DATE', 'YEAR_OF_ESTABLISHMENT', 'SUPPLIER_ENTITY', 'SUPPLIER_MAIN_PRODUCT_TYPE', 'SUPPLIER_OTHER_PRODUCT_TYPE', 'FLAG_SUPPLIER_RARALI_ONLY', 'SUPPLIER_LOCATION', 'SUPPLIER_RATING', 'SOLD_PRODUCT', 'ITEM_TRANSACTION', 'TOTAL_REPORT_PRODUCT', 'LAST_DATA_UPDATE', 'CP_NAME', 'CP_ROLES', 'CP_PHONE_NUMBER', 'SUPPLIER_CERTIFIED_DOCUMENTS', 'SUPPLIER_GENDER', 'SUPPLIER_AGE', 'SUPPLIER_INDUSTRY', 'SUPPLIER_POSTCODE', 'SUPPLIER_PAYMENT_TYPE_PREF', 'SUPPLIER_TENURE_PREF', 'SUPPLIER_COMPANY_NAME', 'SUPPLIER_BANK_ACCOUNT']\n",
    "\n",
    "df_buyer_exist = list(set(df_buyer.columns) & set(column_df_buyer))\n",
    "df_buyer_not_exist = [x for x in column_df_buyer if x not in df_buyer_exist]\n",
    "# print('Data mengenai Buyer yang diberikan oleh partner terdapat variabel ' + str(df_buyer_exist))\n",
    "# print('\\n')\n",
    "# print('Data mengenai Buyer yang tidak dilengkapi oleh partner adalah ' + str(df_buyer_not_exist))\n",
    "# print('\\n')\n",
    "\n",
    "df_po_exist = list(set(df_po.columns) & set(column_df_po))\n",
    "df_po_not_exist = [x for x in column_df_po if x not in df_po_exist]\n",
    "# print('Data mengenai Purchase Order yang diberikan oleh partner terdapat variabel ' + str(df_po_exist))\n",
    "# print('\\n')\n",
    "# print('Data mengenai Purchase Order yang tidak dilengkapi oleh partner adalah ' + str(df_po_not_exist))\n",
    "# print('\\n')\n",
    "\n",
    "df_supplier_exist = list(set(df_supplier.columns) & set(column_df_supplier))\n",
    "df_supplier_not_exist = [x for x in column_df_supplier if x not in df_supplier_exist]\n",
    "# print('Data mengenai Supplier yang diberikan oleh partner terdapat variabel ' + str(df_supplier_exist))\n",
    "# print('\\n')\n",
    "# print('Data mengenai Supplier yang tidak dilengkapi oleh partner adalah ' + str(df_supplier_not_exist))\n",
    "\n",
    "df_var = []\n",
    "df_var.append(['Data Supplier', df_supplier_exist, len(df_supplier_exist), df_supplier_not_exist, len(df_supplier_not_exist)])\n",
    "df_var.append(['Data Purchase Order', df_po_exist, len(df_po_exist), df_po_not_exist, len(df_po_not_exist)])\n",
    "df_var.append(['Data Buyer', df_buyer_exist, len(df_buyer_exist), df_buyer_not_exist, len(df_buyer_not_exist)])\n",
    "df_var = pd.DataFrame(df_var, columns = ['Data', 'Variable Exist', 'Count of Variable Exist', 'Variable Not Exist', 'Count of Variable Not Exist'])\n",
    "df_var\n",
    "\n"
   ]
  },
  {
   "cell_type": "code",
   "execution_count": 95,
   "metadata": {},
   "outputs": [],
   "source": [
    "## Check Missing Value\n",
    "def check_missing_value(df): \n",
    "    '''\n",
    "     Fungsi get_missing_value\n",
    "     Input berupa pandas dataframe\n",
    "     Output/return menghasilkan tabel yang berisi kolom beserta jumlah dan presentase missing value pada dataset \n",
    "    '''\n",
    "\n",
    "    total = df.isnull().sum().sort_values(ascending=False)\n",
    "    percent = (df.isnull().sum()/df.isnull().count()).sort_values(ascending=False)\n",
    "    missing_data = pd.concat([total, percent], axis=1, keys=['Total', 'Percent'])\n",
    "    missing_data = missing_data.loc[missing_data['Percent']>0]\n",
    "    print(missing_data)\n",
    "    if missing_data.shape[0]!=0:\n",
    "        f, ax = plt.subplots(figsize=(5, 5))\n",
    "        plt.xticks(rotation='90')\n",
    "        sns.barplot(y=missing_data.index, x=missing_data['Percent'])\n",
    "        plt.ylabel('Features', fontsize=15)\n",
    "        plt.xlabel('Percent of missing values', fontsize=15)\n",
    "        plt.xlim(0, 1)\n",
    "        plt.title('Percent missing data by feature', fontsize=15)\n",
    "        return missing_data\n",
    "    else:\n",
    "        print('Tidak ada missing value!!!')"
   ]
  },
  {
   "cell_type": "code",
   "execution_count": 96,
   "metadata": {},
   "outputs": [
    {
     "name": "stdout",
     "output_type": "stream",
     "text": [
      "                       Total  Percent\n",
      "SUPPLIER_BANK_ACCOUNT     10      1.0\n",
      "SUPPLIER_COMPANY_NAME      9      0.9\n",
      "Empty DataFrame\n",
      "Columns: [Total, Percent]\n",
      "Index: []\n",
      "Tidak ada missing value!!!\n",
      "               Total  Percent\n",
      "BUYER_WEBSITE      9      0.9\n"
     ]
    },
    {
     "data": {
      "image/png": "[encoded data removed]",
      "text/plain": [
       "<Figure size 360x360 with 1 Axes>"
      ]
     },
     "metadata": {},
     "output_type": "display_data"
    },
    {
     "data": {
      "image/png": "[encoded data removed]",
      "text/plain": [
       "<Figure size 360x360 with 1 Axes>"
      ]
     },
     "metadata": {},
     "output_type": "display_data"
    }
   ],
   "source": [
    "all_df = [df_supplier, df_po, df_buyer]\n",
    "\n",
    "for data in all_df:\n",
    "    check_missing_value(data)"
   ]
  },
  {
   "cell_type": "markdown",
   "metadata": {
    "id": "NFiznqSgqS5l"
   },
   "source": [
    "<h5 align='center'>--- This is the end of <u>Data Info</u> section ---</h5>"
   ]
  },
  {
   "cell_type": "markdown",
   "metadata": {
    "id": "CfTn71pEqS5m"
   },
   "source": [
    "<h5 align='center'>.</h5>"
   ]
  },
  {
   "cell_type": "markdown",
   "metadata": {
    "id": "vUHb-bJX3JQZ"
   },
   "source": [
    "# 3. Modeling"
   ]
  },
  {
   "cell_type": "markdown",
   "metadata": {
    "id": "kLeR2-NFqS5o"
   },
   "source": [
    "This section gives modeling strategy to predict either limit or potential borrower performance in Investree product"
   ]
  },
  {
   "cell_type": "code",
   "execution_count": 97,
   "metadata": {
    "id": "cioebYimqS5p"
   },
   "outputs": [],
   "source": [
    "try:\n",
    "    df_pivot = df_po\n",
    "    df_pivot['ACT_SETTLE_DATE'] = df_pivot['ACT_SETTLE_DATE'].apply(pd.to_datetime)\n",
    "    df_pivot['ACT_SETTLE_DATE'] = df_pivot['ACT_SETTLE_DATE'].dt.strftime('%Y-%m')\n",
    "except:\n",
    "    print('ACT_SETTLE_DATE is not available')"
   ]
  },
  {
   "cell_type": "markdown",
   "metadata": {
    "id": "7b44KefuuUPX"
   },
   "source": [
    "Purchase Order Total Based on Date"
   ]
  },
  {
   "cell_type": "code",
   "execution_count": 98,
   "metadata": {
    "id": "SnSwGm2iqS5t",
    "outputId": "172e1191-adaf-494c-aebc-5a3a4ae30ec5"
   },
   "outputs": [
    {
     "name": "stdout",
     "output_type": "stream",
     "text": [
      "            2019-03   2019-06  2019-09    2019-12  rerata_amt_nonzero_exc\n",
      "BUYER_ID                                                                 \n",
      "1         575000000      <NA>     <NA>       <NA>             575000000.0\n",
      "2         300000000      <NA>     <NA>       <NA>             300000000.0\n",
      "3         500000000      <NA>     <NA>       <NA>             500000000.0\n",
      "4              <NA>  79000000     <NA>       <NA>              79000000.0\n",
      "5              <NA>      <NA>  5000000       <NA>               5000000.0\n",
      "10         10000000      <NA>     <NA>       <NA>              10000000.0\n",
      "565            <NA>      <NA>     <NA>  150000000             150000000.0\n"
     ]
    }
   ],
   "source": [
    "try:\n",
    "    df_pivot_amt = df_pivot.groupby(['BUYER_ID','ACT_SETTLE_DATE'])['PO_TOTAL'].sum().unstack(fill_value=np.nan).reset_index().rename_axis(None, axis=1).set_index('BUYER_ID')\n",
    "\n",
    "    df_pivot_amt['rerata_amt_nonzero_exc'] = df_pivot_amt.mean(axis=1)\n",
    "\n",
    "    print(df_pivot_amt)\n",
    "except:\n",
    "    print('ACT_SETTLE_DATE or PO_TOTAL is not available')"
   ]
  },
  {
   "cell_type": "markdown",
   "metadata": {},
   "source": [
    "Quantity Based on Date"
   ]
  },
  {
   "cell_type": "code",
   "execution_count": 136,
   "metadata": {
    "id": "DKmJupPrqS52"
   },
   "outputs": [
    {
     "name": "stdout",
     "output_type": "stream",
     "text": [
      "                  PO_ID                         rerata_qty_nonzero_exc\n",
      "ACT_SETTLE_DATE 2019-03 2019-06 2019-09 2019-12                       \n",
      "BUYER_ID                                                              \n",
      "1                   1.0     NaN     NaN     NaN                    1.0\n",
      "2                   2.0     NaN     NaN     NaN                    2.0\n",
      "3                   1.0     NaN     NaN     NaN                    1.0\n",
      "4                   NaN     1.0     NaN     NaN                    1.0\n",
      "5                   NaN     NaN     1.0     NaN                    1.0\n",
      "10                  2.0     NaN     NaN     NaN                    2.0\n",
      "565                 NaN     NaN     NaN     2.0                    2.0\n"
     ]
    }
   ],
   "source": [
    "try:\n",
    "    df_pivot_qty = pd.pivot_table(df_pivot,index=['BUYER_ID'], values=['PO_ID'], aggfunc='count',fill_value=np.nan, columns=['ACT_SETTLE_DATE'])\n",
    "    df_pivot_qty['rerata_qty_nonzero_exc'] = df_pivot_qty.mean(axis=1)\n",
    "    print(df_pivot_qty)\n",
    "except Exception as e:\n",
    "    print(e)"
   ]
  },
  {
   "cell_type": "code",
   "execution_count": 100,
   "metadata": {},
   "outputs": [
    {
     "name": "stdout",
     "output_type": "stream",
     "text": [
      "No numeric types to aggregate\n"
     ]
    },
    {
     "data": {
      "image/png": "[encoded data removed]",
      "text/plain": [
       "<Figure size 432x288 with 1 Axes>"
      ]
     },
     "metadata": {},
     "output_type": "display_data"
    }
   ],
   "source": [
    "try:\n",
    "    sns.lineplot(data=df_pivot[['PO_TOTAL', 'ACT_SETTLE_DATE']])\n",
    "except Exception as e:\n",
    "    print(e)"
   ]
  },
  {
   "cell_type": "markdown",
   "metadata": {
    "id": "pfDqNNJw0n7h"
   },
   "source": [
    "The Segmentation of Borrower Location"
   ]
  },
  {
   "cell_type": "code",
   "execution_count": 101,
   "metadata": {},
   "outputs": [],
   "source": [
    "#Merge with data kodepos\n",
    "try:\n",
    "    postcode = pd.read_csv('Data Kodepos Indonesia.csv', sep=';')\n",
    "    postcode['KABUPATEN'] = postcode['JENIS'] + ' ' + postcode['KABUPATEN']\n",
    "    df_merged_loc = pd.merge(df_supplier, postcode, left_on='SUPPLIER_POSTCODE', right_on='POSTCODE', how='left')\n",
    "except Exception as e:\n",
    "    print(e)"
   ]
  },
  {
   "cell_type": "code",
   "execution_count": 102,
   "metadata": {
    "id": "wGcUJXyCqsEl"
   },
   "outputs": [
    {
     "name": "stdout",
     "output_type": "stream",
     "text": [
      "         PROVINSI  JUMLAH\n",
      "0      Jawa Barat      64\n",
      "1  Sumatera Utara      26\n",
      "2           Jambi      15\n",
      "3   DI Yogyakarta       1\n"
     ]
    }
   ],
   "source": [
    "#Provinsi\n",
    "try:\n",
    "    count_per_loc = df_merged_loc['PROVINSI'].value_counts().rename_axis('PROVINSI').reset_index(name='JUMLAH')\n",
    "    print(count_per_loc)\n",
    "except Exception as e:\n",
    "    print(e)"
   ]
  },
  {
   "cell_type": "code",
   "execution_count": 103,
   "metadata": {
    "id": "9sSTHJfhmsa4"
   },
   "outputs": [
    {
     "data": {
      "image/png": "[encoded data removed]",
      "text/plain": [
       "<Figure size 1224x576 with 1 Axes>"
      ]
     },
     "metadata": {},
     "output_type": "display_data"
    }
   ],
   "source": [
    "try:\n",
    "    fig = plt.figure(figsize=(17,8))\n",
    "    ax = plt.subplot(111)\n",
    "    ax.bar(count_per_loc.iloc[:, 0], count_per_loc.iloc[:, 1])\n",
    "\n",
    "    plt.show()\n",
    "except Exception as e:\n",
    "    print(e)"
   ]
  },
  {
   "cell_type": "code",
   "execution_count": 104,
   "metadata": {},
   "outputs": [
    {
     "name": "stdout",
     "output_type": "stream",
     "text": [
      "         KABUPATEN  JUMLAH\n",
      "0     Kab. Samosir      26\n",
      "1      Kab. Ciamis      25\n",
      "2     Kab. Cianjur      24\n",
      "3       Kab. Bungo      15\n",
      "4       Kab. Garut      15\n",
      "5  Kota Yogyakarta       1\n"
     ]
    }
   ],
   "source": [
    "#KABUPATEN\n",
    "try:\n",
    "    count_per_loc = df_merged_loc['KABUPATEN'].value_counts().rename_axis('KABUPATEN').reset_index(name='JUMLAH')\n",
    "    print(count_per_loc)\n",
    "except Exception as e:\n",
    "    print(e)"
   ]
  },
  {
   "cell_type": "code",
   "execution_count": 105,
   "metadata": {},
   "outputs": [
    {
     "data": {
      "image/png": "[encoded data removed]",
      "text/plain": [
       "<Figure size 1224x576 with 1 Axes>"
      ]
     },
     "metadata": {},
     "output_type": "display_data"
    }
   ],
   "source": [
    "try:\n",
    "    fig = plt.figure(figsize=(17,8))\n",
    "    ax = plt.subplot(111)\n",
    "    ax.bar(count_per_loc.iloc[:, 0], count_per_loc.iloc[:, 1])\n",
    "\n",
    "    plt.show()\n",
    "except Exception as e:\n",
    "    print(e)"
   ]
  },
  {
   "cell_type": "markdown",
   "metadata": {
    "id": "32fg57GD1NQG"
   },
   "source": [
    "Payment Type Preference"
   ]
  },
  {
   "cell_type": "code",
   "execution_count": 106,
   "metadata": {
    "id": "KG41xyx-u3WQ"
   },
   "outputs": [
    {
     "name": "stdout",
     "output_type": "stream",
     "text": [
      "  SUPPLIER_PAYMENT_TYPE_PREF  JUMLAH\n",
      "0                     Bullet       6\n",
      "1                 Instalment       4\n"
     ]
    },
    {
     "data": {
      "image/png": "[encoded data removed]",
      "text/plain": [
       "<Figure size 720x576 with 1 Axes>"
      ]
     },
     "metadata": {},
     "output_type": "display_data"
    }
   ],
   "source": [
    "##Supplier\n",
    "try:\n",
    "    count_per_paytype = df_supplier['SUPPLIER_PAYMENT_TYPE_PREF'].value_counts().rename_axis('SUPPLIER_PAYMENT_TYPE_PREF').reset_index(name='JUMLAH')\n",
    "    print(count_per_paytype)\n",
    "\n",
    "    fig = plt.figure(figsize=(10,8))\n",
    "    ax = plt.subplot(111)\n",
    "    ax.bar(count_per_paytype.iloc[:, 0], count_per_paytype.iloc[:, 1])\n",
    "\n",
    "    plt.show()\n",
    "except Exception as e:\n",
    "    print(e)"
   ]
  },
  {
   "cell_type": "code",
   "execution_count": 107,
   "metadata": {},
   "outputs": [
    {
     "name": "stdout",
     "output_type": "stream",
     "text": [
      "  BUYER_PAYMENT_TYPE_PREF  JUMLAH\n",
      "0                  BULLET       6\n",
      "1              INSTALMENT       4\n"
     ]
    },
    {
     "data": {
      "image/png": "[encoded data removed]",
      "text/plain": [
       "<Figure size 720x576 with 1 Axes>"
      ]
     },
     "metadata": {},
     "output_type": "display_data"
    }
   ],
   "source": [
    "##Buyer\n",
    "try:\n",
    "    count_per_paytype = df_buyer['BUYER_PAYMENT_TYPE_PREF'].value_counts().rename_axis('BUYER_PAYMENT_TYPE_PREF').reset_index(name='JUMLAH')\n",
    "    print(count_per_paytype)\n",
    "\n",
    "    fig = plt.figure(figsize=(10,8))\n",
    "    ax = plt.subplot(111)\n",
    "    ax.bar(count_per_paytype.iloc[:, 0], count_per_paytype.iloc[:, 1])\n",
    "\n",
    "    plt.show()\n",
    "except Exception as e:\n",
    "    print(e)"
   ]
  },
  {
   "cell_type": "markdown",
   "metadata": {
    "id": "A12Ebrap1RMT"
   },
   "source": [
    "Tenure Preference"
   ]
  },
  {
   "cell_type": "code",
   "execution_count": 108,
   "metadata": {
    "id": "1B8-FO-R3dmT"
   },
   "outputs": [
    {
     "name": "stdout",
     "output_type": "stream",
     "text": [
      "   SUPPLIER_TENURE_PREF  JUMLAH\n",
      "0                    60       6\n",
      "1                    30       2\n",
      "2                    90       2\n"
     ]
    },
    {
     "data": {
      "image/png": "[encoded data removed]",
      "text/plain": [
       "<Figure size 720x576 with 1 Axes>"
      ]
     },
     "metadata": {},
     "output_type": "display_data"
    }
   ],
   "source": [
    "##Supplier\n",
    "try:\n",
    "    count_per_tenpref = df_supplier['SUPPLIER_TENURE_PREF'].value_counts().rename_axis('SUPPLIER_TENURE_PREF').reset_index(name='JUMLAH')\n",
    "    print(count_per_tenpref)\n",
    "\n",
    "    fig = plt.figure(figsize=(10,8))\n",
    "    ax = plt.subplot(111)\n",
    "    ax.bar(count_per_tenpref.iloc[:, 0], count_per_tenpref.iloc[:, 1])\n",
    "\n",
    "    plt.show()\n",
    "except Exception as e:\n",
    "    print(e)"
   ]
  },
  {
   "cell_type": "code",
   "execution_count": 109,
   "metadata": {
    "id": "WWsEZtJ23k5a"
   },
   "outputs": [
    {
     "name": "stdout",
     "output_type": "stream",
     "text": [
      "   BUYER_TENURE_PREF  JUMLAH\n",
      "0                 60       5\n",
      "1                 30       3\n",
      "2                 90       2\n"
     ]
    },
    {
     "data": {
      "image/png": "[encoded data removed]",
      "text/plain": [
       "<Figure size 720x576 with 1 Axes>"
      ]
     },
     "metadata": {},
     "output_type": "display_data"
    }
   ],
   "source": [
    "##Buyer\n",
    "try:\n",
    "    count_per_tenpref = df_buyer['BUYER_TENURE_PREF'].value_counts().rename_axis('BUYER_TENURE_PREF').reset_index(name='JUMLAH')\n",
    "    print(count_per_tenpref)\n",
    "\n",
    "    fig = plt.figure(figsize=(10,8))\n",
    "    ax = plt.subplot(111)\n",
    "    ax.bar(count_per_tenpref.iloc[:, 0], count_per_tenpref.iloc[:, 1])\n",
    "\n",
    "    plt.show()\n",
    "except Exception as e:\n",
    "    print(e)"
   ]
  },
  {
   "cell_type": "markdown",
   "metadata": {
    "id": "hLGopLwr2VGz"
   },
   "source": [
    "Demographic of Borrower\n",
    "PT CV\n"
   ]
  },
  {
   "cell_type": "code",
   "execution_count": 110,
   "metadata": {
    "id": "jpB9ia-h3tF9"
   },
   "outputs": [
    {
     "name": "stdout",
     "output_type": "stream",
     "text": [
      "  SUPPLIER_GENDER  JUMLAH\n",
      "0            PRIA       7\n",
      "1          WANITA       3\n"
     ]
    },
    {
     "data": {
      "image/png": "[encoded data removed]",
      "text/plain": [
       "<Figure size 720x576 with 1 Axes>"
      ]
     },
     "metadata": {},
     "output_type": "display_data"
    }
   ],
   "source": [
    "#supplier\n",
    "try:\n",
    "    count_per_sex = df_supplier['SUPPLIER_GENDER'].value_counts().rename_axis('SUPPLIER_GENDER').reset_index(name='JUMLAH')\n",
    "    print(count_per_sex)\n",
    "    \n",
    "    fig = plt.figure(figsize=(10,8))\n",
    "    ax = plt.subplot(111)\n",
    "    ax.bar(count_per_sex.iloc[:, 0], count_per_sex.iloc[:, 1])\n",
    "\n",
    "    plt.show()\n",
    "except Exception as e:\n",
    "    print(e)"
   ]
  },
  {
   "cell_type": "code",
   "execution_count": 111,
   "metadata": {
    "id": "DLefzi8F34Bt"
   },
   "outputs": [
    {
     "name": "stdout",
     "output_type": "stream",
     "text": [
      "  BUYER_GENDER  JUMLAH\n",
      "0    LAKI-LAKI       8\n",
      "1    PEREMPUAN       2\n"
     ]
    },
    {
     "data": {
      "image/png": "[encoded data removed]",
      "text/plain": [
       "<Figure size 720x576 with 1 Axes>"
      ]
     },
     "metadata": {},
     "output_type": "display_data"
    }
   ],
   "source": [
    "#buyer\n",
    "try:\n",
    "    count_per_sex = df_buyer['BUYER_GENDER'].value_counts().rename_axis('BUYER_GENDER').reset_index(name='JUMLAH')\n",
    "    print(count_per_sex)\n",
    "    \n",
    "    fig = plt.figure(figsize=(10,8))\n",
    "    ax = plt.subplot(111)\n",
    "    ax.bar(count_per_sex.iloc[:, 0], count_per_sex.iloc[:, 1])\n",
    "\n",
    "    plt.show()\n",
    "except Exception as e:\n",
    "    print(e)"
   ]
  },
  {
   "cell_type": "code",
   "execution_count": 112,
   "metadata": {
    "id": "LXrvpEOV38Gd"
   },
   "outputs": [
    {
     "name": "stdout",
     "output_type": "stream",
     "text": [
      "   SUPPLIER_AGE  JUMLAH\n",
      "0            55       2\n",
      "1            56       1\n",
      "2            44       1\n",
      "3            57       1\n",
      "4            40       1\n",
      "5            39       1\n",
      "6            38       1\n",
      "7            51       1\n",
      "8            50       1\n"
     ]
    },
    {
     "data": {
      "image/png": "[encoded data removed]",
      "text/plain": [
       "<Figure size 720x576 with 1 Axes>"
      ]
     },
     "metadata": {},
     "output_type": "display_data"
    }
   ],
   "source": [
    "#supplier\n",
    "try:\n",
    "    count_per_age = df_supplier['SUPPLIER_AGE'].value_counts().rename_axis('SUPPLIER_AGE').reset_index(name='JUMLAH')\n",
    "    print(count_per_age)\n",
    "    \n",
    "    fig = plt.figure(figsize=(10,8))\n",
    "    ax = plt.subplot(111)\n",
    "    ax.bar(count_per_age.iloc[:, 0], count_per_age.iloc[:, 1])\n",
    "\n",
    "    plt.show()\n",
    "except Exception as e:\n",
    "    print(e)"
   ]
  },
  {
   "cell_type": "code",
   "execution_count": 113,
   "metadata": {},
   "outputs": [
    {
     "name": "stdout",
     "output_type": "stream",
     "text": [
      "   BUYER_AGE  JUMLAH\n",
      "0         32       1\n",
      "1         33       1\n",
      "2         37       1\n",
      "3         53       1\n",
      "4         54       1\n",
      "5         55       1\n",
      "6         40       1\n",
      "7         41       1\n",
      "8         61       1\n",
      "9         47       1\n"
     ]
    },
    {
     "data": {
      "image/png": "[encoded data removed]",
      "text/plain": [
       "<Figure size 720x576 with 1 Axes>"
      ]
     },
     "metadata": {},
     "output_type": "display_data"
    }
   ],
   "source": [
    "#buyer\n",
    "try:\n",
    "    count_per_age = df_buyer['BUYER_AGE'].value_counts().rename_axis('BUYER_AGE').reset_index(name='JUMLAH')\n",
    "    print(count_per_age)\n",
    "    \n",
    "    fig = plt.figure(figsize=(10,8))\n",
    "    ax = plt.subplot(111)\n",
    "    ax.bar(count_per_age.iloc[:, 0], count_per_age.iloc[:, 1])\n",
    "\n",
    "    plt.show()\n",
    "except Exception as e:\n",
    "    print(e)"
   ]
  },
  {
   "cell_type": "markdown",
   "metadata": {
    "id": "tma92-QQNI0N"
   },
   "source": [
    "Borrower Sector"
   ]
  },
  {
   "cell_type": "code",
   "execution_count": 114,
   "metadata": {
    "id": "EQ-OVM9WNOZq"
   },
   "outputs": [
    {
     "name": "stdout",
     "output_type": "stream",
     "text": [
      "          SUPPLIER_INDUSTRY  JUMLAH\n",
      "0                      JASA       3\n",
      "1                 TEKNOLOGI       3\n",
      "2                   MAKANAN       2\n",
      "3  PERHOTELAN DAN AKOMODASI       2\n"
     ]
    },
    {
     "data": {
      "image/png": "[encoded data removed]",
      "text/plain": [
       "<Figure size 720x576 with 1 Axes>"
      ]
     },
     "metadata": {},
     "output_type": "display_data"
    }
   ],
   "source": [
    "#supplier\n",
    "try:\n",
    "    count_per_sector = df_supplier['SUPPLIER_INDUSTRY'].value_counts().rename_axis('SUPPLIER_INDUSTRY').reset_index(name='JUMLAH')\n",
    "    print(count_per_sector)\n",
    "    \n",
    "    fig = plt.figure(figsize=(10,8))\n",
    "    ax = plt.subplot(111)\n",
    "    ax.bar(count_per_sector.iloc[:, 0], count_per_sector.iloc[:, 1])\n",
    "\n",
    "    plt.show()\n",
    "except Exception as e:\n",
    "    print(e)"
   ]
  },
  {
   "cell_type": "code",
   "execution_count": 115,
   "metadata": {
    "id": "PHuZ-t69NWRq"
   },
   "outputs": [
    {
     "name": "stdout",
     "output_type": "stream",
     "text": [
      "                 BUYER_INDUSTRY  JUMLAH\n",
      "0  MACHINERY & INDUSTRIAL PARTS       3\n",
      "1                ALAT KESEHATAN       2\n",
      "2                 ALAT BANGUNAN       2\n",
      "3                   ELECTRONICS       1\n",
      "4            BUILDING MATERIALS       1\n",
      "5                 ALAT KEAMANAN       1\n"
     ]
    },
    {
     "data": {
      "image/png": "[encoded data removed]",
      "text/plain": [
       "<Figure size 720x576 with 1 Axes>"
      ]
     },
     "metadata": {},
     "output_type": "display_data"
    }
   ],
   "source": [
    "#buyer\n",
    "try:\n",
    "    count_per_sector = df_buyer['BUYER_INDUSTRY'].value_counts().rename_axis('BUYER_INDUSTRY').reset_index(name='JUMLAH')\n",
    "    print(count_per_sector)\n",
    "    \n",
    "    fig = plt.figure(figsize=(10,8))\n",
    "    ax = plt.subplot(111)\n",
    "    ax.bar(count_per_sector.iloc[:, 0], count_per_sector.iloc[:, 1])\n",
    "\n",
    "    plt.show()\n",
    "except Exception as e:\n",
    "    print(e)"
   ]
  },
  {
   "cell_type": "markdown",
   "metadata": {},
   "source": [
    "Bank Account"
   ]
  },
  {
   "cell_type": "code",
   "execution_count": 118,
   "metadata": {},
   "outputs": [],
   "source": [
    "# ##Supplier\n",
    "# try:\n",
    "#     print(df_supplier[['SUPPLIER_ID','SUPPLIER_COMPANY_NAME', 'SUPPLIER_BANK_ACCOUNT']])\n",
    "\n",
    "# ##Buyer\n",
    "#     print(df_buyer[['BUYER_ID', 'BUYER_COMPANY_NAME_ID', 'BUYER_BANK_ACCOUNT']])\n",
    "# except Exception as e:\n",
    "#     print(e)"
   ]
  },
  {
   "cell_type": "markdown",
   "metadata": {},
   "source": [
    "Term of Payment"
   ]
  },
  {
   "cell_type": "code",
   "execution_count": 119,
   "metadata": {},
   "outputs": [
    {
     "name": "stdout",
     "output_type": "stream",
     "text": [
      "  TERM_OF_PAYMENT  JUMLAH\n",
      "0           NET30       6\n",
      "1           NET60       4\n"
     ]
    },
    {
     "data": {
      "image/png": "[encoded data removed]",
      "text/plain": [
       "<Figure size 720x576 with 1 Axes>"
      ]
     },
     "metadata": {},
     "output_type": "display_data"
    }
   ],
   "source": [
    "try:\n",
    "    count_per_top = df_po['TERM_OF_PAYMENT'].value_counts().rename_axis('TERM_OF_PAYMENT').reset_index(name='JUMLAH')\n",
    "    print(count_per_top)\n",
    "    \n",
    "    fig = plt.figure(figsize=(10,8))\n",
    "    ax = plt.subplot(111)\n",
    "    ax.bar(count_per_top.iloc[:, 0], count_per_top.iloc[:, 1])\n",
    "\n",
    "    plt.show()\n",
    "except Exception as e:\n",
    "    print(e)"
   ]
  },
  {
   "cell_type": "markdown",
   "metadata": {},
   "source": [
    "Period\n",
    "Min max potong 5"
   ]
  },
  {
   "cell_type": "code",
   "execution_count": 144,
   "metadata": {},
   "outputs": [
    {
     "name": "stderr",
     "output_type": "stream",
     "text": [
      "C:\\Users\\investree\\Anaconda3\\lib\\site-packages\\ipykernel_launcher.py:5: SettingWithCopyWarning: \n",
      "A value is trying to be set on a copy of a slice from a DataFrame\n",
      "\n",
      "See the caveats in the documentation: https://pandas.pydata.org/pandas-docs/stable/user_guide/indexing.html#returning-a-view-versus-a-copy\n",
      "  \"\"\"\n"
     ]
    },
    {
     "name": "stdout",
     "output_type": "stream",
     "text": [
      "   PERIOD  JUMLAH\n",
      "0      22       2\n",
      "1      29       1\n",
      "2      75       1\n",
      "3      11       1\n",
      "4      10       1\n",
      "5      57       1\n",
      "6      43       1\n",
      "7       6       1\n",
      "8      65       1\n"
     ]
    },
    {
     "data": {
      "image/png": "[encoded data removed]",
      "text/plain": [
       "<Figure size 720x576 with 1 Axes>"
      ]
     },
     "metadata": {},
     "output_type": "display_data"
    }
   ],
   "source": [
    "##Buyer\n",
    "try:\n",
    "    df_buyer['BUYER_PERIOD'] = None\n",
    "    for i in range(0, len(df_buyer['BUYER_FIRST_TRANSACTION_DATE'])):\n",
    "        df_buyer['BUYER_PERIOD'][i] = (refer_analysis_time.year - df_buyer['BUYER_FIRST_TRANSACTION_DATE'][i].year) * 12 + (refer_analysis_time.month - df_buyer['BUYER_FIRST_TRANSACTION_DATE'][i].month)\n",
    "\n",
    "    count_per_period = df_buyer['BUYER_PERIOD'].value_counts().rename_axis('PERIOD').reset_index(name='JUMLAH')\n",
    "    print(count_per_period)\n",
    "\n",
    "    fig = plt.figure(figsize=(10,8))\n",
    "    ax = plt.subplot(111)\n",
    "    ax.bar(count_per_period.iloc[:, 0], count_per_period.iloc[:, 1])\n",
    "\n",
    "except Exception as e:\n",
    "    print(e)"
   ]
  },
  {
   "cell_type": "code",
   "execution_count": 126,
   "metadata": {},
   "outputs": [
    {
     "data": {
      "text/html": [
       "<div>\n",
       "<style scoped>\n",
       "    .dataframe tbody tr th:only-of-type {\n",
       "        vertical-align: middle;\n",
       "    }\n",
       "\n",
       "    .dataframe tbody tr th {\n",
       "        vertical-align: top;\n",
       "    }\n",
       "\n",
       "    .dataframe thead th {\n",
       "        text-align: right;\n",
       "    }\n",
       "</style>\n",
       "<table border=\"1\" class=\"dataframe\">\n",
       "  <thead>\n",
       "    <tr style=\"text-align: right;\">\n",
       "      <th></th>\n",
       "      <th>BUYER_ID</th>\n",
       "      <th>BUYER_BUSINESS_PATTERN</th>\n",
       "      <th>BUYER_GENDER</th>\n",
       "      <th>BUYER_ROLES</th>\n",
       "      <th>BUYER_PHONE_NUMBER</th>\n",
       "      <th>BUYER_COMPANY_TYPE</th>\n",
       "      <th>BUYER_COMPANY_NAME_ID</th>\n",
       "      <th>BUYER_PRODUCT_LIKE</th>\n",
       "      <th>BUYER_BUSINESS_TYPE</th>\n",
       "      <th>BUYER_WEBSITE</th>\n",
       "      <th>BUYER_INDUSTRY</th>\n",
       "      <th>BUYER_PROC_FREQ</th>\n",
       "      <th>BUYER_ANNUAL_VOLUME</th>\n",
       "      <th>BUYER_BANK_ACCOUNT</th>\n",
       "      <th>BUYER_LAST_UPDATE</th>\n",
       "      <th>BUYER_COUNT_UPDATE</th>\n",
       "      <th>BUYER_PAYMENT_TYPE_PREF</th>\n",
       "      <th>BUYER_TENURE_PREF</th>\n",
       "      <th>BUYER_AGE</th>\n",
       "      <th>BUYER_FIRST_TRANSACTION_DATE</th>\n",
       "    </tr>\n",
       "  </thead>\n",
       "  <tbody>\n",
       "    <tr>\n",
       "      <th>0</th>\n",
       "      <td>1</td>\n",
       "      <td>PEMILIK / KARYAWAN PERUSAHAAN</td>\n",
       "      <td>LAKI-LAKI</td>\n",
       "      <td>OWNER</td>\n",
       "      <td>6,29E+12</td>\n",
       "      <td>PT</td>\n",
       "      <td>MAJU JAYA</td>\n",
       "      <td>READYMIX BETON, PRECAST</td>\n",
       "      <td>PRINSIPAL / PABRIK</td>\n",
       "      <td>HTTPS://ADAMAME.COM</td>\n",
       "      <td>BUILDING MATERIALS</td>\n",
       "      <td>SETIAP 4 BULAN</td>\n",
       "      <td>1 MILLION - 2 MILLION</td>\n",
       "      <td>CIMB NIAGA 23442524654 | MANDIRI 24564443565</td>\n",
       "      <td>2019-01-10</td>\n",
       "      <td>4</td>\n",
       "      <td>BULLET</td>\n",
       "      <td>30</td>\n",
       "      <td>53</td>\n",
       "      <td>2019-01-01</td>\n",
       "    </tr>\n",
       "    <tr>\n",
       "      <th>1</th>\n",
       "      <td>2</td>\n",
       "      <td>INDIVIDUAL / ONLINE</td>\n",
       "      <td>LAKI-LAKI</td>\n",
       "      <td>OWNER</td>\n",
       "      <td>6244331654</td>\n",
       "      <td>CV</td>\n",
       "      <td>BERDIRI SENDIRI</td>\n",
       "      <td>ABU TERBANG 1 TON</td>\n",
       "      <td>PRINSIPAL / PABRIK</td>\n",
       "      <td>NaN</td>\n",
       "      <td>ALAT BANGUNAN</td>\n",
       "      <td>SETIAP 4 BULAN</td>\n",
       "      <td>2 MILLION - 3 MILLION</td>\n",
       "      <td>CIMB NIAGA 23442524654 | MANDIRI 24564443565</td>\n",
       "      <td>2020-05-01</td>\n",
       "      <td>5</td>\n",
       "      <td>INSTALMENT</td>\n",
       "      <td>30</td>\n",
       "      <td>54</td>\n",
       "      <td>2019-01-10</td>\n",
       "    </tr>\n",
       "    <tr>\n",
       "      <th>2</th>\n",
       "      <td>3</td>\n",
       "      <td>TIDAK MEMILIKI BISNIS</td>\n",
       "      <td>PEREMPUAN</td>\n",
       "      <td>OWNER</td>\n",
       "      <td>62344543423</td>\n",
       "      <td>CV</td>\n",
       "      <td>MAKMUR SENTOSA</td>\n",
       "      <td>BESI ULIR 8MM</td>\n",
       "      <td>PRINSIPAL / PABRIK</td>\n",
       "      <td>NaN</td>\n",
       "      <td>ALAT BANGUNAN</td>\n",
       "      <td>SETIAP 3 BULAN</td>\n",
       "      <td>2 MILLION - 3 MILLION</td>\n",
       "      <td>CIMB NIAGA 23442524654 | MANDIRI 24564443565</td>\n",
       "      <td>2020-06-10</td>\n",
       "      <td>6</td>\n",
       "      <td>INSTALMENT</td>\n",
       "      <td>60</td>\n",
       "      <td>41</td>\n",
       "      <td>2020-01-10</td>\n",
       "    </tr>\n",
       "    <tr>\n",
       "      <th>3</th>\n",
       "      <td>4</td>\n",
       "      <td>PEMILIK / KARYAWAN PERUSAHAAN</td>\n",
       "      <td>LAKI-LAKI</td>\n",
       "      <td>OWNER</td>\n",
       "      <td>62344543411</td>\n",
       "      <td>PT</td>\n",
       "      <td>HARUM WANGI</td>\n",
       "      <td>HELM PROYEK KUNING ALL-FIT</td>\n",
       "      <td>PRINSIPAL / PABRIK</td>\n",
       "      <td>NaN</td>\n",
       "      <td>ALAT KEAMANAN</td>\n",
       "      <td>SETIAP 4 BULAN</td>\n",
       "      <td>2 MILLION - 3 MILLION</td>\n",
       "      <td>CIMB NIAGA 23442524654 | MANDIRI 24564443565</td>\n",
       "      <td>2020-04-15</td>\n",
       "      <td>2</td>\n",
       "      <td>INSTALMENT</td>\n",
       "      <td>90</td>\n",
       "      <td>32</td>\n",
       "      <td>2020-05-06</td>\n",
       "    </tr>\n",
       "    <tr>\n",
       "      <th>4</th>\n",
       "      <td>5</td>\n",
       "      <td>PEMILIK / KARYAWAN PERUSAHAAN</td>\n",
       "      <td>LAKI-LAKI</td>\n",
       "      <td>OWNER</td>\n",
       "      <td>62344543424</td>\n",
       "      <td>CV</td>\n",
       "      <td>KERAS TEGAS</td>\n",
       "      <td>STETOSKOP MERK</td>\n",
       "      <td>PRINSIPAL / PABRIK</td>\n",
       "      <td>NaN</td>\n",
       "      <td>ALAT KESEHATAN</td>\n",
       "      <td>SETIAP 2 BULAN</td>\n",
       "      <td>2 MILLION - 3 MILLION</td>\n",
       "      <td>CIMB NIAGA 23442524654 | MANDIRI 24564443565</td>\n",
       "      <td>2019-05-12</td>\n",
       "      <td>1</td>\n",
       "      <td>BULLET</td>\n",
       "      <td>90</td>\n",
       "      <td>33</td>\n",
       "      <td>2019-12-23</td>\n",
       "    </tr>\n",
       "    <tr>\n",
       "      <th>5</th>\n",
       "      <td>6</td>\n",
       "      <td>PEMILIK / KARYAWAN PERUSAHAAN</td>\n",
       "      <td>LAKI-LAKI</td>\n",
       "      <td>OWNER</td>\n",
       "      <td>62344543425</td>\n",
       "      <td>PT</td>\n",
       "      <td>KARYA BANGSA</td>\n",
       "      <td>ALCOHOL SWAB MERK</td>\n",
       "      <td>PRINSIPAL / PABRIK</td>\n",
       "      <td>NaN</td>\n",
       "      <td>ALAT KESEHATAN</td>\n",
       "      <td>SETIAP 4 BULAN</td>\n",
       "      <td>1 MILLION - 2 MILLION</td>\n",
       "      <td>CIMB NIAGA 23442524654 | MANDIRI 24564443565</td>\n",
       "      <td>2020-06-24</td>\n",
       "      <td>1</td>\n",
       "      <td>BULLET</td>\n",
       "      <td>60</td>\n",
       "      <td>37</td>\n",
       "      <td>2018-06-24</td>\n",
       "    </tr>\n",
       "    <tr>\n",
       "      <th>6</th>\n",
       "      <td>7</td>\n",
       "      <td>PEMILIK / KARYAWAN PERUSAHAAN</td>\n",
       "      <td>PEREMPUAN</td>\n",
       "      <td>OWNER</td>\n",
       "      <td>62344543427</td>\n",
       "      <td>PT</td>\n",
       "      <td>BERDIKARI</td>\n",
       "      <td>MESIN JAHIT</td>\n",
       "      <td>PRINSIPAL / PABRIK</td>\n",
       "      <td>NaN</td>\n",
       "      <td>MACHINERY &amp; INDUSTRIAL PARTS</td>\n",
       "      <td>SETIAP 4 BULAN</td>\n",
       "      <td>2 MILLION - 3 MILLION</td>\n",
       "      <td>CIMB NIAGA 23442524654 | MANDIRI 24564443565</td>\n",
       "      <td>2019-07-08</td>\n",
       "      <td>3</td>\n",
       "      <td>BULLET</td>\n",
       "      <td>60</td>\n",
       "      <td>47</td>\n",
       "      <td>2016-02-13</td>\n",
       "    </tr>\n",
       "    <tr>\n",
       "      <th>7</th>\n",
       "      <td>8</td>\n",
       "      <td>PEMILIK / KARYAWAN PERUSAHAAN</td>\n",
       "      <td>LAKI-LAKI</td>\n",
       "      <td>OWNER</td>\n",
       "      <td>62344543413</td>\n",
       "      <td>PT</td>\n",
       "      <td>SENTOSA</td>\n",
       "      <td>OVEN</td>\n",
       "      <td>PRINSIPAL / PABRIK</td>\n",
       "      <td>NaN</td>\n",
       "      <td>MACHINERY &amp; INDUSTRIAL PARTS</td>\n",
       "      <td>SETIAP 4 BULAN</td>\n",
       "      <td>1 MILLION - 2 MILLION</td>\n",
       "      <td>CIMB NIAGA 23442524654 | MANDIRI 24564443565</td>\n",
       "      <td>2019-06-06</td>\n",
       "      <td>4</td>\n",
       "      <td>BULLET</td>\n",
       "      <td>60</td>\n",
       "      <td>55</td>\n",
       "      <td>2017-04-15</td>\n",
       "    </tr>\n",
       "    <tr>\n",
       "      <th>8</th>\n",
       "      <td>9</td>\n",
       "      <td>PEMILIK / KARYAWAN PERUSAHAAN</td>\n",
       "      <td>LAKI-LAKI</td>\n",
       "      <td>OWNER</td>\n",
       "      <td>62344543419</td>\n",
       "      <td>PT</td>\n",
       "      <td>SEJAHTERA</td>\n",
       "      <td>TV</td>\n",
       "      <td>PRINSIPAL / PABRIK</td>\n",
       "      <td>NaN</td>\n",
       "      <td>ELECTRONICS</td>\n",
       "      <td>SETIAP 4 BULAN</td>\n",
       "      <td>2 MILLION - 3 MILLION</td>\n",
       "      <td>CIMB NIAGA 23442524654 | MANDIRI 24564443565</td>\n",
       "      <td>2019-08-29</td>\n",
       "      <td>9</td>\n",
       "      <td>BULLET</td>\n",
       "      <td>30</td>\n",
       "      <td>61</td>\n",
       "      <td>2014-08-17</td>\n",
       "    </tr>\n",
       "    <tr>\n",
       "      <th>9</th>\n",
       "      <td>10</td>\n",
       "      <td>PEMILIK / KARYAWAN PERUSAHAAN</td>\n",
       "      <td>LAKI-LAKI</td>\n",
       "      <td>OWNER</td>\n",
       "      <td>62344543401</td>\n",
       "      <td>PT</td>\n",
       "      <td>SUKA MAJU</td>\n",
       "      <td>KOMPOR</td>\n",
       "      <td>PRINSIPAL / PABRIK</td>\n",
       "      <td>NaN</td>\n",
       "      <td>MACHINERY &amp; INDUSTRIAL PARTS</td>\n",
       "      <td>SETIAP 4 BULAN</td>\n",
       "      <td>2 MILLION - 3 MILLION</td>\n",
       "      <td>CIMB NIAGA 23442524654 | MANDIRI 24564443565</td>\n",
       "      <td>2020-01-11</td>\n",
       "      <td>2</td>\n",
       "      <td>INSTALMENT</td>\n",
       "      <td>60</td>\n",
       "      <td>40</td>\n",
       "      <td>2015-06-14</td>\n",
       "    </tr>\n",
       "  </tbody>\n",
       "</table>\n",
       "</div>"
      ],
      "text/plain": [
       "  BUYER_ID         BUYER_BUSINESS_PATTERN BUYER_GENDER BUYER_ROLES  \\\n",
       "0        1  PEMILIK / KARYAWAN PERUSAHAAN    LAKI-LAKI       OWNER   \n",
       "1        2            INDIVIDUAL / ONLINE    LAKI-LAKI       OWNER   \n",
       "2        3          TIDAK MEMILIKI BISNIS    PEREMPUAN       OWNER   \n",
       "3        4  PEMILIK / KARYAWAN PERUSAHAAN    LAKI-LAKI       OWNER   \n",
       "4        5  PEMILIK / KARYAWAN PERUSAHAAN    LAKI-LAKI       OWNER   \n",
       "5        6  PEMILIK / KARYAWAN PERUSAHAAN    LAKI-LAKI       OWNER   \n",
       "6        7  PEMILIK / KARYAWAN PERUSAHAAN    PEREMPUAN       OWNER   \n",
       "7        8  PEMILIK / KARYAWAN PERUSAHAAN    LAKI-LAKI       OWNER   \n",
       "8        9  PEMILIK / KARYAWAN PERUSAHAAN    LAKI-LAKI       OWNER   \n",
       "9       10  PEMILIK / KARYAWAN PERUSAHAAN    LAKI-LAKI       OWNER   \n",
       "\n",
       "  BUYER_PHONE_NUMBER BUYER_COMPANY_TYPE BUYER_COMPANY_NAME_ID  \\\n",
       "0           6,29E+12                 PT             MAJU JAYA   \n",
       "1         6244331654                 CV       BERDIRI SENDIRI   \n",
       "2        62344543423                 CV        MAKMUR SENTOSA   \n",
       "3        62344543411                 PT           HARUM WANGI   \n",
       "4        62344543424                 CV           KERAS TEGAS   \n",
       "5        62344543425                 PT          KARYA BANGSA   \n",
       "6        62344543427                 PT             BERDIKARI   \n",
       "7        62344543413                 PT               SENTOSA   \n",
       "8        62344543419                 PT             SEJAHTERA   \n",
       "9        62344543401                 PT             SUKA MAJU   \n",
       "\n",
       "           BUYER_PRODUCT_LIKE BUYER_BUSINESS_TYPE        BUYER_WEBSITE  \\\n",
       "0     READYMIX BETON, PRECAST  PRINSIPAL / PABRIK  HTTPS://ADAMAME.COM   \n",
       "1           ABU TERBANG 1 TON  PRINSIPAL / PABRIK                  NaN   \n",
       "2               BESI ULIR 8MM  PRINSIPAL / PABRIK                  NaN   \n",
       "3  HELM PROYEK KUNING ALL-FIT  PRINSIPAL / PABRIK                  NaN   \n",
       "4              STETOSKOP MERK  PRINSIPAL / PABRIK                  NaN   \n",
       "5           ALCOHOL SWAB MERK  PRINSIPAL / PABRIK                  NaN   \n",
       "6                 MESIN JAHIT  PRINSIPAL / PABRIK                  NaN   \n",
       "7                        OVEN  PRINSIPAL / PABRIK                  NaN   \n",
       "8                          TV  PRINSIPAL / PABRIK                  NaN   \n",
       "9                      KOMPOR  PRINSIPAL / PABRIK                  NaN   \n",
       "\n",
       "                 BUYER_INDUSTRY BUYER_PROC_FREQ    BUYER_ANNUAL_VOLUME  \\\n",
       "0            BUILDING MATERIALS  SETIAP 4 BULAN  1 MILLION - 2 MILLION   \n",
       "1                 ALAT BANGUNAN  SETIAP 4 BULAN  2 MILLION - 3 MILLION   \n",
       "2                 ALAT BANGUNAN  SETIAP 3 BULAN  2 MILLION - 3 MILLION   \n",
       "3                 ALAT KEAMANAN  SETIAP 4 BULAN  2 MILLION - 3 MILLION   \n",
       "4                ALAT KESEHATAN  SETIAP 2 BULAN  2 MILLION - 3 MILLION   \n",
       "5                ALAT KESEHATAN  SETIAP 4 BULAN  1 MILLION - 2 MILLION   \n",
       "6  MACHINERY & INDUSTRIAL PARTS  SETIAP 4 BULAN  2 MILLION - 3 MILLION   \n",
       "7  MACHINERY & INDUSTRIAL PARTS  SETIAP 4 BULAN  1 MILLION - 2 MILLION   \n",
       "8                   ELECTRONICS  SETIAP 4 BULAN  2 MILLION - 3 MILLION   \n",
       "9  MACHINERY & INDUSTRIAL PARTS  SETIAP 4 BULAN  2 MILLION - 3 MILLION   \n",
       "\n",
       "                             BUYER_BANK_ACCOUNT BUYER_LAST_UPDATE  \\\n",
       "0  CIMB NIAGA 23442524654 | MANDIRI 24564443565        2019-01-10   \n",
       "1  CIMB NIAGA 23442524654 | MANDIRI 24564443565        2020-05-01   \n",
       "2  CIMB NIAGA 23442524654 | MANDIRI 24564443565        2020-06-10   \n",
       "3  CIMB NIAGA 23442524654 | MANDIRI 24564443565        2020-04-15   \n",
       "4  CIMB NIAGA 23442524654 | MANDIRI 24564443565        2019-05-12   \n",
       "5  CIMB NIAGA 23442524654 | MANDIRI 24564443565        2020-06-24   \n",
       "6  CIMB NIAGA 23442524654 | MANDIRI 24564443565        2019-07-08   \n",
       "7  CIMB NIAGA 23442524654 | MANDIRI 24564443565        2019-06-06   \n",
       "8  CIMB NIAGA 23442524654 | MANDIRI 24564443565        2019-08-29   \n",
       "9  CIMB NIAGA 23442524654 | MANDIRI 24564443565        2020-01-11   \n",
       "\n",
       "   BUYER_COUNT_UPDATE BUYER_PAYMENT_TYPE_PREF BUYER_TENURE_PREF  BUYER_AGE  \\\n",
       "0                   4                  BULLET                30         53   \n",
       "1                   5              INSTALMENT                30         54   \n",
       "2                   6              INSTALMENT                60         41   \n",
       "3                   2              INSTALMENT                90         32   \n",
       "4                   1                  BULLET                90         33   \n",
       "5                   1                  BULLET                60         37   \n",
       "6                   3                  BULLET                60         47   \n",
       "7                   4                  BULLET                60         55   \n",
       "8                   9                  BULLET                30         61   \n",
       "9                   2              INSTALMENT                60         40   \n",
       "\n",
       "  BUYER_FIRST_TRANSACTION_DATE  \n",
       "0                   2019-01-01  \n",
       "1                   2019-01-10  \n",
       "2                   2020-01-10  \n",
       "3                   2020-05-06  \n",
       "4                   2019-12-23  \n",
       "5                   2018-06-24  \n",
       "6                   2016-02-13  \n",
       "7                   2017-04-15  \n",
       "8                   2014-08-17  \n",
       "9                   2015-06-14  "
      ]
     },
     "execution_count": 126,
     "metadata": {},
     "output_type": "execute_result"
    }
   ],
   "source": [
    "df_buyer"
   ]
  },
  {
   "cell_type": "markdown",
   "metadata": {},
   "source": [
    "Ceritified Documents (KYC)"
   ]
  },
  {
   "cell_type": "code",
   "execution_count": 134,
   "metadata": {},
   "outputs": [
    {
     "data": {
      "image/png": "[encoded data removed]",
      "text/plain": [
       "<Figure size 720x576 with 1 Axes>"
      ]
     },
     "metadata": {},
     "output_type": "display_data"
    }
   ],
   "source": [
    "##Supplier\n",
    "try:\n",
    "    count_ktp = 0\n",
    "    count_npwp = 0\n",
    "    count_siup = 0\n",
    "    count_tdp = 0\n",
    "    for i in df_supplier['SUPPLIER_CERTIFIED_DOCUMENTS']:\n",
    "        ktp = i.count('KTP')\n",
    "        count_ktp = count_ktp+ktp\n",
    "        npwp = i.count('NPWP')\n",
    "        count_npwp = count_npwp+npwp\n",
    "        siup = i.count('SIUP')\n",
    "        count_siup = count_siup+siup\n",
    "        tdp = i.count('TDP')\n",
    "        count_tdp = count_tdp+tdp\n",
    "\n",
    "    fig = plt.figure(figsize=(10,8))\n",
    "    ax = plt.subplot(111)\n",
    "    ax.bar(['KTP', 'NPWP', 'SIUP', 'TDP'], [count_ktp, count_npwp, count_siup, count_tdp])\n",
    "\n",
    "    plt.show()\n",
    "except Exception as e:\n",
    "    print(e)"
   ]
  },
  {
   "cell_type": "code",
   "execution_count": 145,
   "metadata": {},
   "outputs": [
    {
     "name": "stdout",
     "output_type": "stream",
     "text": [
      "'BUYER_CERTIFIED_DOCUMENTS'\n"
     ]
    }
   ],
   "source": [
    "##Buyer\n",
    "try:\n",
    "    count_ktp = 0\n",
    "    count_npwp = 0\n",
    "    count_siup = 0\n",
    "    count_tdp = 0\n",
    "    for i in df_buyer['BUYER_CERTIFIED_DOCUMENTS']:\n",
    "        ktp = i.count('KTP')\n",
    "        count_ktp = count_ktp+ktp\n",
    "        npwp = i.count('NPWP')\n",
    "        count_npwp = count_npwp+npwp\n",
    "        siup = i.count('SIUP')\n",
    "        count_siup = count_siup+siup\n",
    "        tdp = i.count('TDP')\n",
    "        count_tdp = count_tdp+tdp\n",
    "\n",
    "    fig = plt.figure(figsize=(10,8))\n",
    "    ax = plt.subplot(111)\n",
    "    ax.bar(['KTP', 'NPWP', 'SIUP', 'TDP'], [count_ktp, count_npwp, count_siup, count_tdp])\n",
    "\n",
    "    plt.show()\n",
    "except Exception as e:\n",
    "    print(e)"
   ]
  },
  {
   "cell_type": "code",
   "execution_count": null,
   "metadata": {},
   "outputs": [],
   "source": []
  },
  {
   "cell_type": "markdown",
   "metadata": {},
   "source": []
  },
  {
   "cell_type": "markdown",
   "metadata": {
    "id": "_xHbllqb2he0"
   },
   "source": []
  }
 ],
 "metadata": {
  "colab": {
   "collapsed_sections": [],
   "name": "TEMP - INV BASED - BUYER SUPPLIER - v1.ipynb",
   "provenance": [],
   "toc_visible": true
  },
  "kernelspec": {
   "display_name": "Python 3",
   "language": "python",
   "name": "python3"
  },
  "language_info": {
   "codemirror_mode": {
    "name": "ipython",
    "version": 3
   },
   "file_extension": ".py",
   "mimetype": "text/x-python",
   "name": "python",
   "nbconvert_exporter": "python",
   "pygments_lexer": "ipython3",
   "version": "3.6.4"
  }
 },
 "nbformat": 4,
 "nbformat_minor": 1
}
